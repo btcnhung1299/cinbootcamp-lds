{
  "nbformat": 4,
  "nbformat_minor": 0,
  "metadata": {
    "colab": {
      "name": "TF - Traffic Sign Classification.ipynb",
      "provenance": [],
      "authorship_tag": "ABX9TyPYSWGZFoy12gvvyBJwKwaG",
      "include_colab_link": true
    },
    "kernelspec": {
      "name": "python3",
      "display_name": "Python 3"
    },
    "accelerator": "GPU"
  },
  "cells": [
    {
      "cell_type": "markdown",
      "metadata": {
        "id": "view-in-github",
        "colab_type": "text"
      },
      "source": [
        "<a href=\"https://colab.research.google.com/github/btcnhung1299/cinbootcamp-lds/blob/master/TF_Traffic_Sign_Classification.ipynb\" target=\"_parent\"><img src=\"https://colab.research.google.com/assets/colab-badge.svg\" alt=\"Open In Colab\"/></a>"
      ]
    },
    {
      "cell_type": "code",
      "metadata": {
        "id": "ViZec5xf34Yu",
        "colab_type": "code",
        "colab": {}
      },
      "source": [
        "import tensorflow as tf\n",
        "import numpy as np\n",
        "import matplotlib.pyplot as plt"
      ],
      "execution_count": 1,
      "outputs": []
    },
    {
      "cell_type": "markdown",
      "metadata": {
        "id": "G39JT5XnAdxN",
        "colab_type": "text"
      },
      "source": [
        "## Data Gathering"
      ]
    },
    {
      "cell_type": "markdown",
      "metadata": {
        "id": "QCGPgzlHAjjs",
        "colab_type": "text"
      },
      "source": [
        "Download data from a given URL."
      ]
    },
    {
      "cell_type": "code",
      "metadata": {
        "id": "juo7PtLj6x6J",
        "colab_type": "code",
        "colab": {
          "base_uri": "https://localhost:8080/",
          "height": 200
        },
        "outputId": "768102d2-9b60-4a24-fd01-7d7f93f3cc5a"
      },
      "source": [
        "!wget https://d17h27t6h515a5.cloudfront.net/topher/2017/February/5898cd6f_traffic-signs-data/traffic-signs-data.zip\n",
        "!unzip -q traffic-signs-data.zip"
      ],
      "execution_count": 2,
      "outputs": [
        {
          "output_type": "stream",
          "text": [
            "--2020-09-03 13:30:13--  https://d17h27t6h515a5.cloudfront.net/topher/2017/February/5898cd6f_traffic-signs-data/traffic-signs-data.zip\n",
            "Resolving d17h27t6h515a5.cloudfront.net (d17h27t6h515a5.cloudfront.net)... 13.227.220.34, 13.227.220.60, 13.227.220.172, ...\n",
            "Connecting to d17h27t6h515a5.cloudfront.net (d17h27t6h515a5.cloudfront.net)|13.227.220.34|:443... connected.\n",
            "HTTP request sent, awaiting response... 200 OK\n",
            "Length: 123524425 (118M) [application/zip]\n",
            "Saving to: ‘traffic-signs-data.zip’\n",
            "\n",
            "traffic-signs-data. 100%[===================>] 117.80M  78.0MB/s    in 1.5s    \n",
            "\n",
            "2020-09-03 13:30:14 (78.0 MB/s) - ‘traffic-signs-data.zip’ saved [123524425/123524425]\n",
            "\n"
          ],
          "name": "stdout"
        }
      ]
    },
    {
      "cell_type": "markdown",
      "metadata": {
        "id": "tg9NYz5CArdN",
        "colab_type": "text"
      },
      "source": [
        "Read data from pickle files."
      ]
    },
    {
      "cell_type": "code",
      "metadata": {
        "id": "LCfVBQMQ9KIV",
        "colab_type": "code",
        "colab": {}
      },
      "source": [
        "import pickle\n",
        "\n",
        "train_data = pickle.load(open(\"train.p\", \"rb\"))\n",
        "val_data = pickle.load(open(\"valid.p\", \"rb\"))\n",
        "test_data = pickle.load(open(\"test.p\", \"rb\"))"
      ],
      "execution_count": 3,
      "outputs": []
    },
    {
      "cell_type": "code",
      "metadata": {
        "id": "W0MNENOD9ayi",
        "colab_type": "code",
        "colab": {}
      },
      "source": [
        "get_features_labels = lambda x : (x[\"features\"], x[\"labels\"])\n",
        "X_train, y_train = get_features_labels(train_data)\n",
        "X_val, y_val = get_features_labels(val_data)\n",
        "X_test, y_test = get_features_labels(test_data)"
      ],
      "execution_count": 4,
      "outputs": []
    },
    {
      "cell_type": "markdown",
      "metadata": {
        "id": "gKO1yCZLAIxd",
        "colab_type": "text"
      },
      "source": [
        "Since the pixel lies between 0-255, need **scaling** -> would add a rescaling layer later in the model."
      ]
    },
    {
      "cell_type": "code",
      "metadata": {
        "id": "ncrKm6q5_8re",
        "colab_type": "code",
        "colab": {
          "base_uri": "https://localhost:8080/",
          "height": 33
        },
        "outputId": "30ea2511-7d9b-469e-f8ca-dbe2b05df7e3"
      },
      "source": [
        "print(\"Pixel range:\", np.min(X_train), np.max(X_train))"
      ],
      "execution_count": 5,
      "outputs": [
        {
          "output_type": "stream",
          "text": [
            "Pixel range: 0 255\n"
          ],
          "name": "stdout"
        }
      ]
    },
    {
      "cell_type": "markdown",
      "metadata": {
        "id": "A0Toigf9GgJo",
        "colab_type": "text"
      },
      "source": [
        "## Data Batchifying"
      ]
    },
    {
      "cell_type": "markdown",
      "metadata": {
        "id": "3IFaQE2XIN8R",
        "colab_type": "text"
      },
      "source": [
        "Convert numpy dataset to tensorflow dataset."
      ]
    },
    {
      "cell_type": "code",
      "metadata": {
        "id": "h_C_PbNRGjUR",
        "colab_type": "code",
        "colab": {}
      },
      "source": [
        "convert_to_tfds = lambda x, y : tf.data.Dataset.from_tensor_slices((x, y))\n",
        "ds_train = convert_to_tfds(X_train, y_train)\n",
        "ds_val = convert_to_tfds(X_val, y_val)\n",
        "ds_test = convert_to_tfds(X_test, y_test)"
      ],
      "execution_count": 6,
      "outputs": []
    },
    {
      "cell_type": "markdown",
      "metadata": {
        "id": "YeOPDvcBITCh",
        "colab_type": "text"
      },
      "source": [
        "Shuffle for better generalization and batchify data."
      ]
    },
    {
      "cell_type": "code",
      "metadata": {
        "id": "tJrMdZsfHRLn",
        "colab_type": "code",
        "colab": {}
      },
      "source": [
        "BATCH_SIZE = 128\n",
        "shuffle_batch = lambda ds, ds_size : ds.shuffle(ds_size).batch(BATCH_SIZE)\n",
        "ds_train = shuffle_batch(ds_train, len(X_train))\n",
        "ds_val = shuffle_batch(ds_val, len(X_val))\n",
        "ds_test = shuffle_batch(ds_test, len(X_test))"
      ],
      "execution_count": 7,
      "outputs": []
    },
    {
      "cell_type": "markdown",
      "metadata": {
        "id": "nKfKR0gUBQM3",
        "colab_type": "text"
      },
      "source": [
        "## Model Architecture"
      ]
    },
    {
      "cell_type": "code",
      "metadata": {
        "id": "UEKBwPyJDhVU",
        "colab_type": "code",
        "colab": {
          "base_uri": "https://localhost:8080/",
          "height": 33
        },
        "outputId": "182bb77e-6123-4b31-c0f0-14be8d7cc64f"
      },
      "source": [
        "num_train_samples, *input_shape = X_train.shape\n",
        "num_classes = 43\n",
        "print(\"Input shape:\", input_shape)"
      ],
      "execution_count": 8,
      "outputs": [
        {
          "output_type": "stream",
          "text": [
            "Input shape: [32, 32, 3]\n"
          ],
          "name": "stdout"
        }
      ]
    },
    {
      "cell_type": "code",
      "metadata": {
        "id": "crFf1ihrCr7F",
        "colab_type": "code",
        "colab": {}
      },
      "source": [
        "from tensorflow.keras.models import Sequential\n",
        "from tensorflow.keras.layers import Conv2D, MaxPooling2D, BatchNormalization, Flatten, Dense\n",
        "from tensorflow.keras.layers.experimental.preprocessing import Rescaling"
      ],
      "execution_count": 9,
      "outputs": []
    },
    {
      "cell_type": "code",
      "metadata": {
        "id": "Hxp9rU-8C2Ea",
        "colab_type": "code",
        "colab": {
          "base_uri": "https://localhost:8080/",
          "height": 616
        },
        "outputId": "459aac2e-976f-4167-cbac-939357b909b8"
      },
      "source": [
        "model = Sequential()\n",
        "\n",
        "model.add(Rescaling(scale=1./255, input_shape=input_shape))\n",
        "\n",
        "model.add(Conv2D(filters=32, kernel_size=(3, 3), padding=\"same\", activation=\"relu\")) # Input shape: (32 x 32 x 32)\n",
        "model.add(BatchNormalization())\n",
        "model.add(Conv2D(filters=32, kernel_size=(3, 3), padding=\"same\", activation=\"relu\")) # Input shape: (32 x 32 x 32)\n",
        "model.add(BatchNormalization())\n",
        "model.add(MaxPooling2D(pool_size=(2, 2)))                                            # Input shape: (16 x 16 x 32)\n",
        "\n",
        "model.add(Conv2D(filters=64, kernel_size=(3, 3), padding=\"same\", activation=\"relu\")) # Input shape: (16 x 16 x 64)\n",
        "model.add(BatchNormalization())\n",
        "model.add(Conv2D(filters=64, kernel_size=(3, 3), padding=\"same\", activation=\"relu\")) # Input shape: (16 x 16 x 64)\n",
        "model.add(BatchNormalization())\n",
        "model.add(MaxPooling2D(pool_size=(2, 2)))                                            # Input shape: (8 x 8 x 64)\n",
        "\n",
        "model.add(Flatten())                                                                 # Input shape: (4096)\n",
        "model.add(Dense(512, activation=\"relu\"))                                             # Input shape: (512)\n",
        "model.add(Dense(num_classes, activation=\"softmax\"))                                  # Input shape: (num_classes)\n",
        "\n",
        "model.summary()"
      ],
      "execution_count": 10,
      "outputs": [
        {
          "output_type": "stream",
          "text": [
            "Model: \"sequential\"\n",
            "_________________________________________________________________\n",
            "Layer (type)                 Output Shape              Param #   \n",
            "=================================================================\n",
            "rescaling (Rescaling)        (None, 32, 32, 3)         0         \n",
            "_________________________________________________________________\n",
            "conv2d (Conv2D)              (None, 32, 32, 32)        896       \n",
            "_________________________________________________________________\n",
            "batch_normalization (BatchNo (None, 32, 32, 32)        128       \n",
            "_________________________________________________________________\n",
            "conv2d_1 (Conv2D)            (None, 32, 32, 32)        9248      \n",
            "_________________________________________________________________\n",
            "batch_normalization_1 (Batch (None, 32, 32, 32)        128       \n",
            "_________________________________________________________________\n",
            "max_pooling2d (MaxPooling2D) (None, 16, 16, 32)        0         \n",
            "_________________________________________________________________\n",
            "conv2d_2 (Conv2D)            (None, 16, 16, 64)        18496     \n",
            "_________________________________________________________________\n",
            "batch_normalization_2 (Batch (None, 16, 16, 64)        256       \n",
            "_________________________________________________________________\n",
            "conv2d_3 (Conv2D)            (None, 16, 16, 64)        36928     \n",
            "_________________________________________________________________\n",
            "batch_normalization_3 (Batch (None, 16, 16, 64)        256       \n",
            "_________________________________________________________________\n",
            "max_pooling2d_1 (MaxPooling2 (None, 8, 8, 64)          0         \n",
            "_________________________________________________________________\n",
            "flatten (Flatten)            (None, 4096)              0         \n",
            "_________________________________________________________________\n",
            "dense (Dense)                (None, 512)               2097664   \n",
            "_________________________________________________________________\n",
            "dense_1 (Dense)              (None, 43)                22059     \n",
            "=================================================================\n",
            "Total params: 2,186,059\n",
            "Trainable params: 2,185,675\n",
            "Non-trainable params: 384\n",
            "_________________________________________________________________\n"
          ],
          "name": "stdout"
        }
      ]
    },
    {
      "cell_type": "code",
      "metadata": {
        "id": "d6cMH_RNGVoi",
        "colab_type": "code",
        "colab": {}
      },
      "source": [
        "rmsprop_opt = tf.optimizers.RMSprop()\n",
        "model.compile(loss=\"sparse_categorical_crossentropy\", optimizer=rmsprop_opt, metrics=[\"acc\"])"
      ],
      "execution_count": 11,
      "outputs": []
    },
    {
      "cell_type": "markdown",
      "metadata": {
        "id": "hb_4HljsJy4E",
        "colab_type": "text"
      },
      "source": [
        "## Training"
      ]
    },
    {
      "cell_type": "code",
      "metadata": {
        "id": "M0TYyseCIpPK",
        "colab_type": "code",
        "colab": {
          "base_uri": "https://localhost:8080/",
          "height": 683
        },
        "outputId": "93dd3eb3-fc7e-4dfa-8584-cc8f9bc8f8d8"
      },
      "source": [
        "history = model.fit(ds_train, epochs=20, validation_data=ds_val)"
      ],
      "execution_count": 12,
      "outputs": [
        {
          "output_type": "stream",
          "text": [
            "Epoch 1/20\n",
            "272/272 [==============================] - 4s 14ms/step - loss: 0.9632 - acc: 0.8099 - val_loss: 3.2432 - val_acc: 0.4009\n",
            "Epoch 2/20\n",
            "272/272 [==============================] - 3s 13ms/step - loss: 0.0662 - acc: 0.9835 - val_loss: 0.4437 - val_acc: 0.9039\n",
            "Epoch 3/20\n",
            "272/272 [==============================] - 3s 13ms/step - loss: 0.0363 - acc: 0.9919 - val_loss: 0.6682 - val_acc: 0.8948\n",
            "Epoch 4/20\n",
            "272/272 [==============================] - 3s 13ms/step - loss: 0.0260 - acc: 0.9945 - val_loss: 0.4250 - val_acc: 0.9397\n",
            "Epoch 5/20\n",
            "272/272 [==============================] - 3s 13ms/step - loss: 0.0174 - acc: 0.9961 - val_loss: 0.5060 - val_acc: 0.9361\n",
            "Epoch 6/20\n",
            "272/272 [==============================] - 3s 13ms/step - loss: 0.0133 - acc: 0.9971 - val_loss: 0.4059 - val_acc: 0.9619\n",
            "Epoch 7/20\n",
            "272/272 [==============================] - 3s 13ms/step - loss: 0.0130 - acc: 0.9972 - val_loss: 0.8667 - val_acc: 0.9420\n",
            "Epoch 8/20\n",
            "272/272 [==============================] - 4s 13ms/step - loss: 0.0134 - acc: 0.9977 - val_loss: 0.6847 - val_acc: 0.9438\n",
            "Epoch 9/20\n",
            "272/272 [==============================] - 3s 13ms/step - loss: 0.0102 - acc: 0.9980 - val_loss: 0.4460 - val_acc: 0.9449\n",
            "Epoch 10/20\n",
            "272/272 [==============================] - 3s 13ms/step - loss: 0.0090 - acc: 0.9981 - val_loss: 0.5021 - val_acc: 0.9497\n",
            "Epoch 11/20\n",
            "272/272 [==============================] - 4s 13ms/step - loss: 0.0115 - acc: 0.9980 - val_loss: 0.5650 - val_acc: 0.9474\n",
            "Epoch 12/20\n",
            "272/272 [==============================] - 4s 13ms/step - loss: 0.0124 - acc: 0.9985 - val_loss: 0.6600 - val_acc: 0.9526\n",
            "Epoch 13/20\n",
            "272/272 [==============================] - 4s 13ms/step - loss: 0.0048 - acc: 0.9989 - val_loss: 1.0895 - val_acc: 0.9383\n",
            "Epoch 14/20\n",
            "272/272 [==============================] - 4s 13ms/step - loss: 0.0085 - acc: 0.9988 - val_loss: 0.8155 - val_acc: 0.9503\n",
            "Epoch 15/20\n",
            "272/272 [==============================] - 4s 13ms/step - loss: 0.0055 - acc: 0.9991 - val_loss: 0.6965 - val_acc: 0.9587\n",
            "Epoch 16/20\n",
            "272/272 [==============================] - 4s 13ms/step - loss: 0.0046 - acc: 0.9989 - val_loss: 0.7290 - val_acc: 0.9633\n",
            "Epoch 17/20\n",
            "272/272 [==============================] - 4s 13ms/step - loss: 0.0040 - acc: 0.9994 - val_loss: 0.3527 - val_acc: 0.9735\n",
            "Epoch 18/20\n",
            "272/272 [==============================] - 4s 13ms/step - loss: 0.0062 - acc: 0.9991 - val_loss: 0.4534 - val_acc: 0.9669\n",
            "Epoch 19/20\n",
            "272/272 [==============================] - 3s 13ms/step - loss: 0.0061 - acc: 0.9990 - val_loss: 0.4824 - val_acc: 0.9660\n",
            "Epoch 20/20\n",
            "272/272 [==============================] - 3s 13ms/step - loss: 0.0059 - acc: 0.9989 - val_loss: 0.7492 - val_acc: 0.9644\n"
          ],
          "name": "stdout"
        }
      ]
    }
  ]
}