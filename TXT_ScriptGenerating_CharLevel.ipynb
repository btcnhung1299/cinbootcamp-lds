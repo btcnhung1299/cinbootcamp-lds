{
  "nbformat": 4,
  "nbformat_minor": 0,
  "metadata": {
    "colab": {
      "name": "TXT_ScriptGenerating_CharLevel.ipynb",
      "provenance": [],
      "authorship_tag": "ABX9TyMEqDlxOQphobuWBVjyhkyu",
      "include_colab_link": true
    },
    "kernelspec": {
      "name": "python3",
      "display_name": "Python 3"
    },
    "accelerator": "GPU"
  },
  "cells": [
    {
      "cell_type": "markdown",
      "metadata": {
        "id": "view-in-github",
        "colab_type": "text"
      },
      "source": [
        "<a href=\"https://colab.research.google.com/github/btcnhung1299/cinbootcamp-lds/blob/master/TXT_ScriptGenerating_CharLevel.ipynb\" target=\"_parent\"><img src=\"https://colab.research.google.com/assets/colab-badge.svg\" alt=\"Open In Colab\"/></a>"
      ]
    },
    {
      "cell_type": "code",
      "metadata": {
        "id": "SIIcnfqUGatN",
        "colab_type": "code",
        "colab": {}
      },
      "source": [
        "import tensorflow as tf\n",
        "import numpy as np\n",
        "import pandas as pd"
      ],
      "execution_count": 1,
      "outputs": []
    },
    {
      "cell_type": "markdown",
      "metadata": {
        "id": "FgEqvmrgJQOd",
        "colab_type": "text"
      },
      "source": [
        "## Data gathering"
      ]
    },
    {
      "cell_type": "code",
      "metadata": {
        "id": "VF00JQTxGpzv",
        "colab_type": "code",
        "colab": {
          "base_uri": "https://localhost:8080/",
          "height": 200
        },
        "outputId": "11d747fe-f2d7-44a3-d8b0-320e0db490cd"
      },
      "source": [
        "!wget https://storage.googleapis.com/download.tensorflow.org/data/shakespeare.txt"
      ],
      "execution_count": 2,
      "outputs": [
        {
          "output_type": "stream",
          "text": [
            "--2020-09-24 14:09:22--  https://storage.googleapis.com/download.tensorflow.org/data/shakespeare.txt\n",
            "Resolving storage.googleapis.com (storage.googleapis.com)... 64.233.167.128, 74.125.133.128, 74.125.140.128, ...\n",
            "Connecting to storage.googleapis.com (storage.googleapis.com)|64.233.167.128|:443... connected.\n",
            "HTTP request sent, awaiting response... 200 OK\n",
            "Length: 1115394 (1.1M) [text/plain]\n",
            "Saving to: ‘shakespeare.txt.1’\n",
            "\n",
            "\rshakespeare.txt.1     0%[                    ]       0  --.-KB/s               \rshakespeare.txt.1   100%[===================>]   1.06M  --.-KB/s    in 0.01s   \n",
            "\n",
            "2020-09-24 14:09:22 (108 MB/s) - ‘shakespeare.txt.1’ saved [1115394/1115394]\n",
            "\n"
          ],
          "name": "stdout"
        }
      ]
    },
    {
      "cell_type": "code",
      "metadata": {
        "id": "5tLaKfmlG3qB",
        "colab_type": "code",
        "colab": {}
      },
      "source": [
        "text = open(\"./shakespeare.txt\", \"rb\").read().decode(\"utf-8\")"
      ],
      "execution_count": 3,
      "outputs": []
    },
    {
      "cell_type": "markdown",
      "metadata": {
        "id": "cRw8reTSJTSD",
        "colab_type": "text"
      },
      "source": [
        "Create vocabulary and map each character in original document to a unique integer."
      ]
    },
    {
      "cell_type": "code",
      "metadata": {
        "id": "vEY5Y9uBAfxe",
        "colab_type": "code",
        "colab": {
          "base_uri": "https://localhost:8080/",
          "height": 383
        },
        "outputId": "370585c6-ae38-4200-81d9-c516b08185ca"
      },
      "source": [
        "print(\"Number of characters:\", len(text))\n",
        "print(\"-\" * 50)\n",
        "print(text[:300])"
      ],
      "execution_count": 4,
      "outputs": [
        {
          "output_type": "stream",
          "text": [
            "Number of characters: 1115394\n",
            "--------------------------------------------------\n",
            "First Citizen:\n",
            "Before we proceed any further, hear me speak.\n",
            "\n",
            "All:\n",
            "Speak, speak.\n",
            "\n",
            "First Citizen:\n",
            "You are all resolved rather to die than to famish?\n",
            "\n",
            "All:\n",
            "Resolved. resolved.\n",
            "\n",
            "First Citizen:\n",
            "First, you know Caius Marcius is chief enemy to the people.\n",
            "\n",
            "All:\n",
            "We know't, we know't.\n",
            "\n",
            "First Citizen:\n",
            "Let us\n"
          ],
          "name": "stdout"
        }
      ]
    },
    {
      "cell_type": "markdown",
      "metadata": {
        "id": "TrXfQOAbB3Zw",
        "colab_type": "text"
      },
      "source": [
        "Create vocabulary of all unique characters."
      ]
    },
    {
      "cell_type": "code",
      "metadata": {
        "id": "_aM1Mnz7HOgE",
        "colab_type": "code",
        "colab": {}
      },
      "source": [
        "vocab = sorted(set(text))\n",
        "ids_to_char = np.array(vocab)\n",
        "char_to_ids = {char: char_idx for char_idx, char in enumerate(vocab)}"
      ],
      "execution_count": 5,
      "outputs": []
    },
    {
      "cell_type": "markdown",
      "metadata": {
        "id": "K2RX6JfIB7Cb",
        "colab_type": "text"
      },
      "source": [
        "Convert each character in the text to corresponding integer."
      ]
    },
    {
      "cell_type": "code",
      "metadata": {
        "id": "eq-5WMs_B2ns",
        "colab_type": "code",
        "colab": {
          "base_uri": "https://localhost:8080/",
          "height": 233
        },
        "outputId": "e7adc14e-6c87-48a8-821b-c973911e8c3b"
      },
      "source": [
        "text_ids = np.array([char_to_ids[char] for char in text])\n",
        "print(text_ids[:300])"
      ],
      "execution_count": 6,
      "outputs": [
        {
          "output_type": "stream",
          "text": [
            "[18 47 56 57 58  1 15 47 58 47 64 43 52 10  0 14 43 44 53 56 43  1 61 43\n",
            "  1 54 56 53 41 43 43 42  1 39 52 63  1 44 59 56 58 46 43 56  6  1 46 43\n",
            " 39 56  1 51 43  1 57 54 43 39 49  8  0  0 13 50 50 10  0 31 54 43 39 49\n",
            "  6  1 57 54 43 39 49  8  0  0 18 47 56 57 58  1 15 47 58 47 64 43 52 10\n",
            "  0 37 53 59  1 39 56 43  1 39 50 50  1 56 43 57 53 50 60 43 42  1 56 39\n",
            " 58 46 43 56  1 58 53  1 42 47 43  1 58 46 39 52  1 58 53  1 44 39 51 47\n",
            " 57 46 12  0  0 13 50 50 10  0 30 43 57 53 50 60 43 42  8  1 56 43 57 53\n",
            " 50 60 43 42  8  0  0 18 47 56 57 58  1 15 47 58 47 64 43 52 10  0 18 47\n",
            " 56 57 58  6  1 63 53 59  1 49 52 53 61  1 15 39 47 59 57  1 25 39 56 41\n",
            " 47 59 57  1 47 57  1 41 46 47 43 44  1 43 52 43 51 63  1 58 53  1 58 46\n",
            " 43  1 54 43 53 54 50 43  8  0  0 13 50 50 10  0 35 43  1 49 52 53 61  5\n",
            " 58  6  1 61 43  1 49 52 53 61  5 58  8  0  0 18 47 56 57 58  1 15 47 58\n",
            " 47 64 43 52 10  0 24 43 58  1 59 57]\n"
          ],
          "name": "stdout"
        }
      ]
    },
    {
      "cell_type": "markdown",
      "metadata": {
        "id": "TwKKDVfmKEHS",
        "colab_type": "text"
      },
      "source": [
        "## Data preparation"
      ]
    },
    {
      "cell_type": "markdown",
      "metadata": {
        "id": "MjrjkWBQDG6Q",
        "colab_type": "text"
      },
      "source": [
        "Split a text into multiple chunk, each chunk contains `SEQ_LEN` characters.\n",
        "\n",
        "As the task is to predict the next character, we define the input and the target for each chunk as:\n",
        "- Input: Up to the last character.\n",
        "- Target: Input shifted one character to the right."
      ]
    },
    {
      "cell_type": "code",
      "metadata": {
        "id": "jzhYcJxYLKSO",
        "colab_type": "code",
        "colab": {}
      },
      "source": [
        "def train_target_split(chunk):\n",
        "  input_chunk = chunk[:-1]\n",
        "  target_chunk = chunk[1:]\n",
        "  return input_chunk, target_chunk"
      ],
      "execution_count": 7,
      "outputs": []
    },
    {
      "cell_type": "code",
      "metadata": {
        "id": "iI_I9eOOIhJo",
        "colab_type": "code",
        "colab": {}
      },
      "source": [
        "SEQ_LEN = 64\n",
        "BUFFER_SIZE = 10000\n",
        "samples = tf.data.Dataset.from_tensor_slices(text_ids).batch(SEQ_LEN + 1, drop_remainder=True).map(train_target_split).shuffle(BUFFER_SIZE)"
      ],
      "execution_count": 8,
      "outputs": []
    },
    {
      "cell_type": "markdown",
      "metadata": {
        "id": "1wBU1OQbVYwP",
        "colab_type": "text"
      },
      "source": [
        "**Batchify data**"
      ]
    },
    {
      "cell_type": "code",
      "metadata": {
        "id": "ax4eyjmcQLSg",
        "colab_type": "code",
        "colab": {}
      },
      "source": [
        "BATCH_SIZE = 64\n",
        "\n",
        "test_size = 0.2\n",
        "num_samples = sum(1 for x in samples)\n",
        "num_train_samples = int(test_size * num_samples)\n",
        "ds_train = samples.take(num_train_samples).batch(BATCH_SIZE)\n",
        "ds_val = samples.skip(num_train_samples).batch(BATCH_SIZE)"
      ],
      "execution_count": 9,
      "outputs": []
    },
    {
      "cell_type": "markdown",
      "metadata": {
        "id": "b4tDfTOkLvxb",
        "colab_type": "text"
      },
      "source": [
        "## Model architecture"
      ]
    },
    {
      "cell_type": "code",
      "metadata": {
        "id": "gc9wXRbMKFd_",
        "colab_type": "code",
        "colab": {}
      },
      "source": [
        "from tensorflow.keras.models import Sequential\n",
        "from tensorflow.keras.layers import Embedding, Dense, LSTM, Bidirectional"
      ],
      "execution_count": 10,
      "outputs": []
    },
    {
      "cell_type": "code",
      "metadata": {
        "id": "o-nW7zHbFVh5",
        "colab_type": "code",
        "colab": {}
      },
      "source": [
        "EMBED_DIM = 64\n",
        "VOCAB_SIZE = len(vocab)"
      ],
      "execution_count": 11,
      "outputs": []
    },
    {
      "cell_type": "code",
      "metadata": {
        "id": "MY4EHlxtJEkf",
        "colab_type": "code",
        "colab": {
          "base_uri": "https://localhost:8080/",
          "height": 250
        },
        "outputId": "09f64c8f-4ba7-44c6-97be-684fb3614a35"
      },
      "source": [
        "model = Sequential()\n",
        "model.add(Embedding(input_dim=VOCAB_SIZE, output_dim=EMBED_DIM))\n",
        "model.add(Bidirectional(LSTM(32, return_sequences=True)))\n",
        "model.add(Dense(VOCAB_SIZE, activation=\"softmax\"))\n",
        "model.summary()"
      ],
      "execution_count": 12,
      "outputs": [
        {
          "output_type": "stream",
          "text": [
            "Model: \"sequential\"\n",
            "_________________________________________________________________\n",
            "Layer (type)                 Output Shape              Param #   \n",
            "=================================================================\n",
            "embedding (Embedding)        (None, None, 64)          4160      \n",
            "_________________________________________________________________\n",
            "bidirectional (Bidirectional (None, None, 64)          24832     \n",
            "_________________________________________________________________\n",
            "dense (Dense)                (None, None, 65)          4225      \n",
            "=================================================================\n",
            "Total params: 33,217\n",
            "Trainable params: 33,217\n",
            "Non-trainable params: 0\n",
            "_________________________________________________________________\n"
          ],
          "name": "stdout"
        }
      ]
    },
    {
      "cell_type": "code",
      "metadata": {
        "id": "xcTyS8P-Fg50",
        "colab_type": "code",
        "colab": {}
      },
      "source": [
        "model.compile(optimizer=\"rmsprop\", loss=\"sparse_categorical_crossentropy\", metrics=[\"acc\"])"
      ],
      "execution_count": 13,
      "outputs": []
    },
    {
      "cell_type": "code",
      "metadata": {
        "id": "EsymzS6JGEPH",
        "colab_type": "code",
        "colab": {
          "base_uri": "https://localhost:8080/",
          "height": 350
        },
        "outputId": "e8fb8708-c23d-46ce-abbc-878b5d5ced11"
      },
      "source": [
        "history = model.fit(ds_train, epochs=10, validation_data=ds_val)"
      ],
      "execution_count": 14,
      "outputs": [
        {
          "output_type": "stream",
          "text": [
            "Epoch 1/10\n",
            "54/54 [==============================] - 7s 121ms/step - loss: 3.4578 - acc: 0.1477 - val_loss: 3.2177 - val_acc: 0.1527\n",
            "Epoch 2/10\n",
            "54/54 [==============================] - 6s 110ms/step - loss: 3.0720 - acc: 0.1679 - val_loss: 2.9079 - val_acc: 0.1776\n",
            "Epoch 3/10\n",
            "54/54 [==============================] - 6s 111ms/step - loss: 2.7105 - acc: 0.2483 - val_loss: 2.4792 - val_acc: 0.3397\n",
            "Epoch 4/10\n",
            "54/54 [==============================] - 6s 110ms/step - loss: 2.2361 - acc: 0.4144 - val_loss: 1.9901 - val_acc: 0.4915\n",
            "Epoch 5/10\n",
            "54/54 [==============================] - 6s 111ms/step - loss: 1.7764 - acc: 0.5634 - val_loss: 1.5658 - val_acc: 0.6255\n",
            "Epoch 6/10\n",
            "54/54 [==============================] - 6s 111ms/step - loss: 1.3874 - acc: 0.6763 - val_loss: 1.2165 - val_acc: 0.7262\n",
            "Epoch 7/10\n",
            "54/54 [==============================] - 6s 110ms/step - loss: 1.0652 - acc: 0.7693 - val_loss: 0.9343 - val_acc: 0.8092\n",
            "Epoch 8/10\n",
            "54/54 [==============================] - 6s 111ms/step - loss: 0.8091 - acc: 0.8464 - val_loss: 0.7002 - val_acc: 0.8752\n",
            "Epoch 9/10\n",
            "54/54 [==============================] - 6s 111ms/step - loss: 0.6014 - acc: 0.8972 - val_loss: 0.5182 - val_acc: 0.9138\n",
            "Epoch 10/10\n",
            "54/54 [==============================] - 6s 111ms/step - loss: 0.4437 - acc: 0.9305 - val_loss: 0.3833 - val_acc: 0.9428\n"
          ],
          "name": "stdout"
        }
      ]
    }
  ]
}